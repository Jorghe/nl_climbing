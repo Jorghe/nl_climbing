{
 "cells": [
  {
   "cell_type": "code",
   "execution_count": 1,
   "metadata": {},
   "outputs": [],
   "source": [
    "from scrapCrag import nlCrag\n",
    "import pandas as pd\n"
   ]
  },
  {
   "cell_type": "code",
   "execution_count": 2,
   "metadata": {},
   "outputs": [
    {
     "name": "stdout",
     "output_type": "stream",
     "text": [
      "Reading routes from https://www.thecrag.com/es/escalar/mexico/la-huasteca/guide \n",
      "Tiempo de ejecución: 38383.27646255493 segundos\n"
     ]
    },
    {
     "data": {
      "text/plain": [
       "True"
      ]
     },
     "execution_count": 2,
     "metadata": {},
     "output_type": "execute_result"
    }
   ],
   "source": [
    "nl = nlCrag()\n",
    "nl.initialize()"
   ]
  },
  {
   "cell_type": "code",
   "execution_count": 3,
   "metadata": {},
   "outputs": [
    {
     "data": {
      "text/html": [
       "<div>\n",
       "<style scoped>\n",
       "    .dataframe tbody tr th:only-of-type {\n",
       "        vertical-align: middle;\n",
       "    }\n",
       "\n",
       "    .dataframe tbody tr th {\n",
       "        vertical-align: top;\n",
       "    }\n",
       "\n",
       "    .dataframe thead th {\n",
       "        text-align: right;\n",
       "    }\n",
       "</style>\n",
       "<table border=\"1\" class=\"dataframe\">\n",
       "  <thead>\n",
       "    <tr style=\"text-align: right;\">\n",
       "      <th></th>\n",
       "      <th>Grade</th>\n",
       "      <th>Name</th>\n",
       "      <th>Style</th>\n",
       "      <th>Area</th>\n",
       "    </tr>\n",
       "  </thead>\n",
       "  <tbody>\n",
       "    <tr>\n",
       "      <th>0</th>\n",
       "      <td>5.6</td>\n",
       "      <td>La Arista Licos</td>\n",
       "      <td>Clásica 210m, 5</td>\n",
       "      <td>1.2. Pico Licos</td>\n",
       "    </tr>\n",
       "    <tr>\n",
       "      <th>1</th>\n",
       "      <td>5.6</td>\n",
       "      <td>Estetoscopio</td>\n",
       "      <td>Deportiva 12m, 6</td>\n",
       "      <td>1.12. La casa del Doctor</td>\n",
       "    </tr>\n",
       "    <tr>\n",
       "      <th>2</th>\n",
       "      <td>5.6</td>\n",
       "      <td>Muerto con Amabilidad</td>\n",
       "      <td>Deportiva 10m, 9</td>\n",
       "      <td>1.17.3. Segundo Cañon Der.</td>\n",
       "    </tr>\n",
       "    <tr>\n",
       "      <th>3</th>\n",
       "      <td>5.7</td>\n",
       "      <td>Enamorado de la segadora</td>\n",
       "      <td>Deportiva 10m, 6</td>\n",
       "      <td>1.12. La casa del Doctor</td>\n",
       "    </tr>\n",
       "    <tr>\n",
       "      <th>4</th>\n",
       "      <td>5.7</td>\n",
       "      <td>Pico Paty</td>\n",
       "      <td>Deportiva</td>\n",
       "      <td>1.15.3. Pared Sur/Southern Wall</td>\n",
       "    </tr>\n",
       "    <tr>\n",
       "      <th>...</th>\n",
       "      <td>...</td>\n",
       "      <td>...</td>\n",
       "      <td>...</td>\n",
       "      <td>...</td>\n",
       "    </tr>\n",
       "    <tr>\n",
       "      <th>563</th>\n",
       "      <td>5.13c</td>\n",
       "      <td>Cruda Realidad</td>\n",
       "      <td>Deportiva 30m</td>\n",
       "      <td>1.32. Ray Bar</td>\n",
       "    </tr>\n",
       "    <tr>\n",
       "      <th>564</th>\n",
       "      <td>5.13d</td>\n",
       "      <td>Black Tufa</td>\n",
       "      <td>Deportiva</td>\n",
       "      <td>1.32. Ray Bar</td>\n",
       "    </tr>\n",
       "    <tr>\n",
       "      <th>565</th>\n",
       "      <td>5.14</td>\n",
       "      <td>No me chingues</td>\n",
       "      <td>Deportiva 14</td>\n",
       "      <td>1.22. Medicos</td>\n",
       "    </tr>\n",
       "    <tr>\n",
       "      <th>598</th>\n",
       "      <td>A1</td>\n",
       "      <td>La Che</td>\n",
       "      <td>Artificial 2</td>\n",
       "      <td>1.2. Pico Licos</td>\n",
       "    </tr>\n",
       "    <tr>\n",
       "      <th>599</th>\n",
       "      <td>A3+</td>\n",
       "      <td>La Directisima</td>\n",
       "      <td>Artificial</td>\n",
       "      <td>1.7. Pico Independencia (izq) y Pico Pirineos ...</td>\n",
       "    </tr>\n",
       "  </tbody>\n",
       "</table>\n",
       "<p>568 rows × 4 columns</p>\n",
       "</div>"
      ],
      "text/plain": [
       "     Grade                      Name             Style  \\\n",
       "0      5.6           La Arista Licos   Clásica 210m, 5   \n",
       "1      5.6              Estetoscopio  Deportiva 12m, 6   \n",
       "2      5.6     Muerto con Amabilidad  Deportiva 10m, 9   \n",
       "3      5.7  Enamorado de la segadora  Deportiva 10m, 6   \n",
       "4      5.7                 Pico Paty         Deportiva   \n",
       "..     ...                       ...               ...   \n",
       "563  5.13c            Cruda Realidad     Deportiva 30m   \n",
       "564  5.13d                Black Tufa         Deportiva   \n",
       "565   5.14            No me chingues      Deportiva 14   \n",
       "598     A1                    La Che      Artificial 2   \n",
       "599    A3+            La Directisima        Artificial   \n",
       "\n",
       "                                                  Area  \n",
       "0                                      1.2. Pico Licos  \n",
       "1                             1.12. La casa del Doctor  \n",
       "2                           1.17.3. Segundo Cañon Der.  \n",
       "3                             1.12. La casa del Doctor  \n",
       "4                      1.15.3. Pared Sur/Southern Wall  \n",
       "..                                                 ...  \n",
       "563                                      1.32. Ray Bar  \n",
       "564                                      1.32. Ray Bar  \n",
       "565                                      1.22. Medicos  \n",
       "598                                    1.2. Pico Licos  \n",
       "599  1.7. Pico Independencia (izq) y Pico Pirineos ...  \n",
       "\n",
       "[568 rows x 4 columns]"
      ]
     },
     "execution_count": 3,
     "metadata": {},
     "output_type": "execute_result"
    }
   ],
   "source": [
    "huaste = pd.read_json(\"huaste.json\")\n",
    "huaste"
   ]
  },
  {
   "cell_type": "code",
   "execution_count": 29,
   "metadata": {},
   "outputs": [
    {
     "name": "stdout",
     "output_type": "stream",
     "text": [
      "     Grade                 Name                 Style                   Area\n",
      "0    5.10a   La maestra Yolanda     Deportiva 30m, 12  1.1.1.1. Elotes Norte\n",
      "1    5.10a     Tocando el vacio  Deportiva 70m, 2, 12  1.1.1.1. Elotes Norte\n",
      "2    5.10b  Diedro de mi Deivid             Deportiva  1.1.1.1. Elotes Norte\n",
      "3    5.10c  Pedacito de mi Vida             Deportiva  1.1.1.1. Elotes Norte\n",
      "4    5.10d       Quesito Fresco             Deportiva  1.1.1.1. Elotes Norte\n",
      "..     ...                  ...                   ...                    ...\n",
      "563  5.11b     One for the head          Deportiva 10        1.9. Las Hienas\n",
      "564  5.11c    Maquinaria Diesel           Deportiva 8        1.9. Las Hienas\n",
      "565  5.11c      The nut breaker             Deportiva        1.9. Las Hienas\n",
      "566  5.12a                 Fire             Deportiva        1.9. Las Hienas\n",
      "567  5.12a               MAMMUT           Deportiva 2        1.9. Las Hienas\n",
      "\n",
      "[568 rows x 4 columns]\n"
     ]
    }
   ],
   "source": [
    "zonas = huaste.groupby(\"Area\")\n",
    "zn_gp = zonas.groups\n",
    "by_area = pd.DataFrame()\n",
    "for i, zn in zonas:\n",
    "    #print(type(zn))\n",
    "    by_area = pd.concat([by_area, zn], ignore_index = True)\n",
    "    for r_i, ruta in huaste.iterrows():\n",
    "        col = ruta[\"Name\"]\n",
    "print(by_area)\n",
    "        #print(col)"
   ]
  },
  {
   "cell_type": "code",
   "execution_count": 30,
   "metadata": {},
   "outputs": [
    {
     "data": {
      "text/plain": [
       "True"
      ]
     },
     "execution_count": 30,
     "metadata": {},
     "output_type": "execute_result"
    }
   ],
   "source": [
    "zns = (\"epc\", \"salto\", \"huaste\")\n",
    "\"epc\" in zns"
   ]
  },
  {
   "cell_type": "code",
   "execution_count": null,
   "metadata": {},
   "outputs": [],
   "source": []
  }
 ],
 "metadata": {
  "kernelspec": {
   "display_name": "Python 3.10.5 64-bit",
   "language": "python",
   "name": "python3"
  },
  "language_info": {
   "codemirror_mode": {
    "name": "ipython",
    "version": 3
   },
   "file_extension": ".py",
   "mimetype": "text/x-python",
   "name": "python",
   "nbconvert_exporter": "python",
   "pygments_lexer": "ipython3",
   "version": "3.10.5"
  },
  "orig_nbformat": 4,
  "vscode": {
   "interpreter": {
    "hash": "8feb6db02ff61a5b6bae9fff10248ab47bd84ff10bf6b5eeaaa0b64a66d7cca6"
   }
  }
 },
 "nbformat": 4,
 "nbformat_minor": 2
}
